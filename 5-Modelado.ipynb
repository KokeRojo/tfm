{
 "cells": [
  {
   "cell_type": "code",
   "execution_count": 1,
   "id": "6f7d0b8a",
   "metadata": {},
   "outputs": [],
   "source": [
    "import pandas as pd\n",
    "import numpy as np\n",
    "import matplotlib.pyplot as plt\n",
    "from sklearn.tree import DecisionTreeClassifier \n",
    "from sklearn.model_selection import train_test_split \n",
    "from sklearn import metrics \n",
    "from sklearn.tree import export_graphviz,plot_tree\n",
    "from six import StringIO\n",
    "from IPython.display import Image  \n",
    "import pydotplus\n",
    "import collections"
   ]
  },
  {
   "cell_type": "code",
   "execution_count": 3,
   "id": "772a096a",
   "metadata": {},
   "outputs": [
    {
     "data": {
      "text/html": [
       "<div>\n",
       "<style scoped>\n",
       "    .dataframe tbody tr th:only-of-type {\n",
       "        vertical-align: middle;\n",
       "    }\n",
       "\n",
       "    .dataframe tbody tr th {\n",
       "        vertical-align: top;\n",
       "    }\n",
       "\n",
       "    .dataframe thead th {\n",
       "        text-align: right;\n",
       "    }\n",
       "</style>\n",
       "<table border=\"1\" class=\"dataframe\">\n",
       "  <thead>\n",
       "    <tr style=\"text-align: right;\">\n",
       "      <th></th>\n",
       "      <th>IDDIST</th>\n",
       "      <th>cluster</th>\n",
       "      <th>res_platform</th>\n",
       "      <th>score</th>\n",
       "      <th>platform</th>\n",
       "      <th>polarity</th>\n",
       "      <th>num_score</th>\n",
       "    </tr>\n",
       "  </thead>\n",
       "  <tbody>\n",
       "    <tr>\n",
       "      <th>0</th>\n",
       "      <td>14.0</td>\n",
       "      <td>4.0</td>\n",
       "      <td>2</td>\n",
       "      <td>5.0</td>\n",
       "      <td>2</td>\n",
       "      <td>5</td>\n",
       "      <td>0.8002</td>\n",
       "    </tr>\n",
       "    <tr>\n",
       "      <th>1</th>\n",
       "      <td>14.0</td>\n",
       "      <td>4.0</td>\n",
       "      <td>2</td>\n",
       "      <td>5.0</td>\n",
       "      <td>2</td>\n",
       "      <td>5</td>\n",
       "      <td>0.8888</td>\n",
       "    </tr>\n",
       "    <tr>\n",
       "      <th>2</th>\n",
       "      <td>14.0</td>\n",
       "      <td>4.0</td>\n",
       "      <td>2</td>\n",
       "      <td>1.0</td>\n",
       "      <td>2</td>\n",
       "      <td>1</td>\n",
       "      <td>0.9800</td>\n",
       "    </tr>\n",
       "    <tr>\n",
       "      <th>3</th>\n",
       "      <td>13.0</td>\n",
       "      <td>5.0</td>\n",
       "      <td>1</td>\n",
       "      <td>4.0</td>\n",
       "      <td>1</td>\n",
       "      <td>3</td>\n",
       "      <td>0.5998</td>\n",
       "    </tr>\n",
       "    <tr>\n",
       "      <th>4</th>\n",
       "      <td>13.0</td>\n",
       "      <td>5.0</td>\n",
       "      <td>1</td>\n",
       "      <td>5.0</td>\n",
       "      <td>1</td>\n",
       "      <td>5</td>\n",
       "      <td>0.5325</td>\n",
       "    </tr>\n",
       "  </tbody>\n",
       "</table>\n",
       "</div>"
      ],
      "text/plain": [
       "   IDDIST  cluster  res_platform  score  platform  polarity  num_score\n",
       "0    14.0      4.0             2    5.0         2         5     0.8002\n",
       "1    14.0      4.0             2    5.0         2         5     0.8888\n",
       "2    14.0      4.0             2    1.0         2         1     0.9800\n",
       "3    13.0      5.0             1    4.0         1         3     0.5998\n",
       "4    13.0      5.0             1    5.0         1         5     0.5325"
      ]
     },
     "execution_count": 3,
     "metadata": {},
     "output_type": "execute_result"
    }
   ],
   "source": [
    "df_final = pd.read_csv('./data/datosprocesados2.csv', delimiter=',', decimal='.', encoding='UTF-8')\n",
    "df_final.head()"
   ]
  },
  {
   "cell_type": "code",
   "execution_count": 4,
   "id": "8bd39a0c",
   "metadata": {},
   "outputs": [
    {
     "name": "stdout",
     "output_type": "stream",
     "text": [
      "score\n",
      "5.0    389655\n",
      "4.0    210019\n",
      "3.0     90142\n",
      "1.0     37463\n",
      "2.0     27787\n",
      "Name: count, dtype: int64\n"
     ]
    }
   ],
   "source": [
    "valores_score = df_final['score'].value_counts()\n",
    "print(valores_score)"
   ]
  },
  {
   "cell_type": "code",
   "execution_count": 5,
   "id": "90048e63",
   "metadata": {},
   "outputs": [
    {
     "name": "stdout",
     "output_type": "stream",
     "text": [
      "polarity\n",
      "5    406391\n",
      "4    186836\n",
      "3     70597\n",
      "1     48633\n",
      "2     42609\n",
      "Name: count, dtype: int64\n"
     ]
    }
   ],
   "source": [
    "valores_polarity = df_final['polarity'].value_counts()\n",
    "print(valores_polarity)"
   ]
  },
  {
   "cell_type": "code",
   "execution_count": 6,
   "id": "d4fb9181",
   "metadata": {},
   "outputs": [
    {
     "name": "stdout",
     "output_type": "stream",
     "text": [
      "<class 'pandas.core.frame.DataFrame'>\n",
      "RangeIndex: 755066 entries, 0 to 755065\n",
      "Data columns (total 7 columns):\n",
      " #   Column        Non-Null Count   Dtype  \n",
      "---  ------        --------------   -----  \n",
      " 0   IDDIST        701056 non-null  float64\n",
      " 1   cluster       752017 non-null  float64\n",
      " 2   res_platform  755066 non-null  int64  \n",
      " 3   score         755066 non-null  float64\n",
      " 4   platform      755066 non-null  int64  \n",
      " 5   polarity      755066 non-null  int64  \n",
      " 6   num_score     755066 non-null  float64\n",
      "dtypes: float64(4), int64(3)\n",
      "memory usage: 40.3 MB\n"
     ]
    }
   ],
   "source": [
    "df_final.info()"
   ]
  },
  {
   "cell_type": "code",
   "execution_count": 7,
   "id": "739779e7",
   "metadata": {},
   "outputs": [],
   "source": [
    "df_final = df_final.dropna(subset=['IDDIST', 'cluster'])"
   ]
  },
  {
   "cell_type": "code",
   "execution_count": 8,
   "id": "a36f6c86",
   "metadata": {},
   "outputs": [
    {
     "name": "stdout",
     "output_type": "stream",
     "text": [
      "<class 'pandas.core.frame.DataFrame'>\n",
      "Index: 698143 entries, 0 to 755065\n",
      "Data columns (total 7 columns):\n",
      " #   Column        Non-Null Count   Dtype  \n",
      "---  ------        --------------   -----  \n",
      " 0   IDDIST        698143 non-null  float64\n",
      " 1   cluster       698143 non-null  float64\n",
      " 2   res_platform  698143 non-null  int64  \n",
      " 3   score         698143 non-null  float64\n",
      " 4   platform      698143 non-null  int64  \n",
      " 5   polarity      698143 non-null  int64  \n",
      " 6   num_score     698143 non-null  float64\n",
      "dtypes: float64(4), int64(3)\n",
      "memory usage: 42.6 MB\n"
     ]
    }
   ],
   "source": [
    "df_final.info()"
   ]
  },
  {
   "cell_type": "code",
   "execution_count": 9,
   "id": "51757a51",
   "metadata": {},
   "outputs": [],
   "source": [
    "X = df_final.drop('score', axis=1)  \n",
    "y = df_final['score']  \n",
    "\n",
    "X_train, X_test, y_train, y_test = train_test_split(X, y, test_size=0.2, random_state=42)"
   ]
  },
  {
   "cell_type": "code",
   "execution_count": 26,
   "id": "9f75e8f4",
   "metadata": {},
   "outputs": [
    {
     "name": "stdout",
     "output_type": "stream",
     "text": [
      "scaler\n"
     ]
    }
   ],
   "source": [
    "from sklearn.preprocessing import StandardScaler\n",
    "from pandas import DataFrame\n",
    "\n",
    "column_names = X_train.columns.tolist()\n",
    "\n",
    "# Escalar\n",
    "scaler = StandardScaler()\n",
    "\n",
    "X_train_esc = scaler.fit_transform(X_train)\n",
    "X_train = DataFrame(X_train_esc, columns=column_names)\n",
    "\n",
    "X_test_esc = scaler.fit_transform(X_test)\n",
    "X_test = DataFrame(X_test_esc, columns=column_names)\n",
    "\n",
    "print (\"scaler\")"
   ]
  },
  {
   "cell_type": "code",
   "execution_count": 10,
   "id": "c86e4a64",
   "metadata": {},
   "outputs": [
    {
     "name": "stdout",
     "output_type": "stream",
     "text": [
      "Accuracy para datos de entrenamiento: 0.880\n",
      "Accuracy para datos de test: 0.503\n"
     ]
    }
   ],
   "source": [
    "tree = DecisionTreeClassifier(criterion=\"entropy\", random_state=0)\n",
    "tree = tree.fit(X_train,y_train)\n",
    "\n",
    "print('Accuracy para datos de entrenamiento: {:.3f}'.format(tree.score(X_train, y_train)))\n",
    "print('Accuracy para datos de test: {:.3f}'.format(tree.score(X_test, y_test)))"
   ]
  },
  {
   "cell_type": "code",
   "execution_count": 11,
   "id": "0aa971e5",
   "metadata": {},
   "outputs": [
    {
     "name": "stdout",
     "output_type": "stream",
     "text": [
      "IDDIST: 0.1956542074008384\n",
      "cluster: 0.08841693023676364\n",
      "res_platform: 0.0028613918514786975\n",
      "platform: 0.002691237999974575\n",
      "polarity: 0.25661802269732753\n",
      "num_score: 0.45375820981361714\n"
     ]
    }
   ],
   "source": [
    "importances = tree.feature_importances_\n",
    "feature_names = X_train.columns.tolist()\n",
    "\n",
    "for feature, importance in zip(feature_names, importances):\n",
    "    print(f\"{feature}: {importance}\")"
   ]
  },
  {
   "cell_type": "code",
   "execution_count": 12,
   "id": "10d8162b",
   "metadata": {},
   "outputs": [],
   "source": [
    "# numero de árboles: 5, 10, 20, 50 y 100\n",
    "from sklearn.ensemble import RandomForestClassifier\n",
    "#   []\n",
    "n_arboles = {5, 10, 20, 50, 100}\n",
    "particion = 'gini'\n",
    "max_depth = 10\n",
    "min_samples_split = 10 \n",
    "min_samples_leaf = 2\n",
    "max_feature = 'auto'\n",
    "\n",
    "randomForest = [RandomForestClassifier(n_estimators = i, criterion= particion,\n",
    "                                       max_depth = max_depth, min_samples_split = min_samples_split,\n",
    "                                      min_samples_leaf = min_samples_leaf, max_features =None) for i in n_arboles]"
   ]
  },
  {
   "cell_type": "code",
   "execution_count": 13,
   "id": "bd358335",
   "metadata": {},
   "outputs": [
    {
     "name": "stdout",
     "output_type": "stream",
     "text": [
      "0\n",
      "1\n",
      "2\n",
      "3\n",
      "4\n"
     ]
    }
   ],
   "source": [
    "from sklearn.metrics import accuracy_score\n",
    "from sklearn.metrics import confusion_matrix\n",
    "from sklearn.metrics import classification_report\n",
    "\n",
    "# Entrenar el modelo\n",
    "dicc_forest = {}\n",
    "dicc_reporte = {}\n",
    "\n",
    "for i, model in enumerate(randomForest):\n",
    "    # Entrenar el modelo con datos de entrenamiento\n",
    "    model.fit(X_train, y_train)\n",
    "\n",
    "    # Realizar predicciones\n",
    "    y_pred = model.predict(X_test)\n",
    "\n",
    "    # Calcular y mostrar la precisión del modelo\n",
    "    precision = accuracy_score(y_test, y_pred)\n",
    "    matriz_conf = confusion_matrix(y_test, y_pred)\n",
    "    reporte = classification_report(y_test, y_pred)\n",
    "    \n",
    "    dicc_forest[model.n_estimators] = matriz_conf\n",
    "    dicc_reporte[model.n_estimators] = reporte\n",
    "    print(i)"
   ]
  },
  {
   "cell_type": "code",
   "execution_count": 14,
   "id": "20c49323",
   "metadata": {},
   "outputs": [
    {
     "name": "stdout",
     "output_type": "stream",
     "text": [
      "[[ 4089   330  1465    65   808]\n",
      " [ 1260   461  2424   139   821]\n",
      " [  744   357  7191  2324  6111]\n",
      " [  280    45  4529  8919 25361]\n",
      " [  418    31  1529  6197 63731]]\n"
     ]
    }
   ],
   "source": [
    "print(dicc_forest[20])"
   ]
  },
  {
   "cell_type": "code",
   "execution_count": 15,
   "id": "915ec015",
   "metadata": {},
   "outputs": [
    {
     "name": "stdout",
     "output_type": "stream",
     "text": [
      "[[ 4093   339  1450    60   815]\n",
      " [ 1262   495  2387   128   833]\n",
      " [  743   387  7142  2207  6248]\n",
      " [  287    49  4497  8714 25587]\n",
      " [  427    30  1500  6000 63949]]\n"
     ]
    }
   ],
   "source": [
    "print(dicc_forest[100])"
   ]
  },
  {
   "cell_type": "code",
   "execution_count": 16,
   "id": "733fb6cf",
   "metadata": {},
   "outputs": [
    {
     "name": "stdout",
     "output_type": "stream",
     "text": [
      "Cantidad de arboles: 50 -> Precision: 0.6042584276905227\n",
      "Cantidad de arboles: 100 -> Precision: 0.6044088262466966\n",
      "Cantidad de arboles: 5 -> Precision: 0.6041223528063654\n",
      "Cantidad de arboles: 20 -> Precision: 0.6043945025746801\n",
      "Cantidad de arboles: 10 -> Precision: 0.6039074977261171\n"
     ]
    }
   ],
   "source": [
    "for j in n_arboles:\n",
    "    precision = np.diagonal(dicc_forest[j]).sum() / dicc_forest[j].sum()\n",
    "    print(\"Cantidad de arboles:\",j, \"-> Precision:\", precision)"
   ]
  },
  {
   "cell_type": "code",
   "execution_count": 17,
   "id": "90afccc1",
   "metadata": {},
   "outputs": [
    {
     "name": "stdout",
     "output_type": "stream",
     "text": [
      "              precision    recall  f1-score   support\n",
      "\n",
      "         1.0       0.60      0.61      0.60      6757\n",
      "         2.0       0.38      0.10      0.15      5105\n",
      "         3.0       0.42      0.43      0.42     16727\n",
      "         4.0       0.51      0.22      0.31     39134\n",
      "         5.0       0.66      0.89      0.76     71906\n",
      "\n",
      "    accuracy                           0.60    139629\n",
      "   macro avg       0.51      0.45      0.45    139629\n",
      "weighted avg       0.57      0.60      0.56    139629\n",
      "\n"
     ]
    }
   ],
   "source": [
    "print(dicc_reporte[100])"
   ]
  },
  {
   "cell_type": "code",
   "execution_count": 18,
   "id": "1c1cbb78",
   "metadata": {},
   "outputs": [],
   "source": [
    "import numpy as np\n",
    "from sklearn.metrics import confusion_matrix\n",
    "import pandas as pd\n",
    "\n",
    "def analyze_confusion_matrix(cm, labels):\n",
    "    totals = cm.sum(axis=1)\n",
    "    errors = []\n",
    "    \n",
    "    # Iterar sobre la matriz de confusión\n",
    "    for true_class in range(len(labels)):\n",
    "        for pred_class in range(len(labels)):\n",
    "            if true_class != pred_class:\n",
    "                count = cm[true_class, pred_class]\n",
    "                percentage = (count / totals[true_class]) * 100\n",
    "                errors.append({\n",
    "                    'true_class': labels[true_class],\n",
    "                    'predicted_class': labels[pred_class],\n",
    "                    'count': count,\n",
    "                    'percentage': percentage\n",
    "                })\n",
    "    \n",
    "    # Convertir la lista de errores a un DataFrame y ordenarlo\n",
    "    df_errors = pd.DataFrame(errors)\n",
    "    df_errors_sorted = df_errors.sort_values('percentage', ascending=False)\n",
    "    \n",
    "    # Mostrar los resultados\n",
    "    print(\"Predicciones incorrectas más frecuentes:\")\n",
    "    for _, row in df_errors_sorted.iterrows():\n",
    "        print(f\"Clase real: {row['true_class']}, \"\n",
    "              f\"Predicción: {row['predicted_class']}, \"\n",
    "              f\"Frecuencia: {row['count']}, \"\n",
    "              f\"Porcentaje: {row['percentage']:.2f}%\")"
   ]
  },
  {
   "cell_type": "code",
   "execution_count": 19,
   "id": "0750ab82",
   "metadata": {},
   "outputs": [
    {
     "name": "stdout",
     "output_type": "stream",
     "text": [
      "Predicciones incorrectas más frecuentes:\n",
      "Clase real: 4.0, Predicción: 5.0, Frecuencia: 25587, Porcentaje: 65.38%\n",
      "Clase real: 2.0, Predicción: 3.0, Frecuencia: 2387, Porcentaje: 46.76%\n",
      "Clase real: 3.0, Predicción: 5.0, Frecuencia: 6248, Porcentaje: 37.35%\n",
      "Clase real: 2.0, Predicción: 1.0, Frecuencia: 1262, Porcentaje: 24.72%\n",
      "Clase real: 1.0, Predicción: 3.0, Frecuencia: 1450, Porcentaje: 21.46%\n",
      "Clase real: 2.0, Predicción: 5.0, Frecuencia: 833, Porcentaje: 16.32%\n",
      "Clase real: 3.0, Predicción: 4.0, Frecuencia: 2207, Porcentaje: 13.19%\n",
      "Clase real: 1.0, Predicción: 5.0, Frecuencia: 815, Porcentaje: 12.06%\n",
      "Clase real: 4.0, Predicción: 3.0, Frecuencia: 4497, Porcentaje: 11.49%\n",
      "Clase real: 5.0, Predicción: 4.0, Frecuencia: 6000, Porcentaje: 8.34%\n",
      "Clase real: 1.0, Predicción: 2.0, Frecuencia: 339, Porcentaje: 5.02%\n",
      "Clase real: 3.0, Predicción: 1.0, Frecuencia: 743, Porcentaje: 4.44%\n",
      "Clase real: 2.0, Predicción: 4.0, Frecuencia: 128, Porcentaje: 2.51%\n",
      "Clase real: 3.0, Predicción: 2.0, Frecuencia: 387, Porcentaje: 2.31%\n",
      "Clase real: 5.0, Predicción: 3.0, Frecuencia: 1500, Porcentaje: 2.09%\n",
      "Clase real: 1.0, Predicción: 4.0, Frecuencia: 60, Porcentaje: 0.89%\n",
      "Clase real: 4.0, Predicción: 1.0, Frecuencia: 287, Porcentaje: 0.73%\n",
      "Clase real: 5.0, Predicción: 1.0, Frecuencia: 427, Porcentaje: 0.59%\n",
      "Clase real: 4.0, Predicción: 2.0, Frecuencia: 49, Porcentaje: 0.13%\n",
      "Clase real: 5.0, Predicción: 2.0, Frecuencia: 30, Porcentaje: 0.04%\n"
     ]
    }
   ],
   "source": [
    "class_names = [str(c) for c in sorted(y_train.unique())]\n",
    "analyze_confusion_matrix(dicc_forest[100], class_names)"
   ]
  },
  {
   "cell_type": "code",
   "execution_count": 16,
   "id": "72160245",
   "metadata": {},
   "outputs": [],
   "source": [
    "df = df_final.head(100000)"
   ]
  },
  {
   "cell_type": "code",
   "execution_count": 17,
   "id": "3be3a650",
   "metadata": {},
   "outputs": [],
   "source": [
    "from sklearn.model_selection import train_test_split\n",
    "\n",
    "X, y = df.drop('score',axis=1),df['score']\n",
    "\n",
    "X_train,X_test,y_train,y_test = train_test_split(X, y, test_size=0.2, random_state=1)"
   ]
  },
  {
   "cell_type": "code",
   "execution_count": 18,
   "id": "b4321dbc",
   "metadata": {},
   "outputs": [],
   "source": [
    "from sklearn import svm\n",
    "\n",
    "#Cargamos también las librerías para hacer la matriz de confusión y la cross validation:\n",
    "\n",
    "from sklearn import metrics\n",
    "from sklearn.metrics import confusion_matrix\n",
    "from sklearn.metrics import accuracy_score\n",
    "from sklearn.metrics import classification_report\n",
    "from sklearn.model_selection import cross_val_score\n",
    "from sklearn.model_selection import cross_val_predict\n",
    "from sklearn.model_selection import KFold\n"
   ]
  },
  {
   "cell_type": "code",
   "execution_count": 19,
   "id": "3eb8c58b",
   "metadata": {},
   "outputs": [
    {
     "data": {
      "text/plain": [
       "[SVC(C=0.1), SVC(C=1), SVC(C=100), SVC(C=1000), SVC(C=10)]"
      ]
     },
     "execution_count": 19,
     "metadata": {},
     "output_type": "execute_result"
    }
   ],
   "source": [
    "from sklearn.svm import SVC\n",
    "\n",
    "C = {0.1, 1, 10, 100, 1000}\n",
    "kernel = 'rbf'\n",
    "gamma = 'scale'\n",
    "\n",
    "svc = [SVC(C=i, kernel=kernel, gamma=gamma) for i in C]\n",
    "svc"
   ]
  },
  {
   "cell_type": "code",
   "execution_count": 20,
   "id": "308c9732",
   "metadata": {},
   "outputs": [
    {
     "name": "stderr",
     "output_type": "stream",
     "text": [
      "D:\\Usuarios\\jchata\\AppData\\Local\\anaconda3\\Lib\\site-packages\\sklearn\\metrics\\_classification.py:1517: UndefinedMetricWarning: Precision is ill-defined and being set to 0.0 in labels with no predicted samples. Use `zero_division` parameter to control this behavior.\n",
      "  _warn_prf(average, modifier, f\"{metric.capitalize()} is\", len(result))\n",
      "D:\\Usuarios\\jchata\\AppData\\Local\\anaconda3\\Lib\\site-packages\\sklearn\\metrics\\_classification.py:1517: UndefinedMetricWarning: Precision is ill-defined and being set to 0.0 in labels with no predicted samples. Use `zero_division` parameter to control this behavior.\n",
      "  _warn_prf(average, modifier, f\"{metric.capitalize()} is\", len(result))\n",
      "D:\\Usuarios\\jchata\\AppData\\Local\\anaconda3\\Lib\\site-packages\\sklearn\\metrics\\_classification.py:1517: UndefinedMetricWarning: Precision is ill-defined and being set to 0.0 in labels with no predicted samples. Use `zero_division` parameter to control this behavior.\n",
      "  _warn_prf(average, modifier, f\"{metric.capitalize()} is\", len(result))\n"
     ]
    },
    {
     "name": "stdout",
     "output_type": "stream",
     "text": [
      "0\n"
     ]
    },
    {
     "name": "stderr",
     "output_type": "stream",
     "text": [
      "D:\\Usuarios\\jchata\\AppData\\Local\\anaconda3\\Lib\\site-packages\\sklearn\\metrics\\_classification.py:1517: UndefinedMetricWarning: Precision is ill-defined and being set to 0.0 in labels with no predicted samples. Use `zero_division` parameter to control this behavior.\n",
      "  _warn_prf(average, modifier, f\"{metric.capitalize()} is\", len(result))\n",
      "D:\\Usuarios\\jchata\\AppData\\Local\\anaconda3\\Lib\\site-packages\\sklearn\\metrics\\_classification.py:1517: UndefinedMetricWarning: Precision is ill-defined and being set to 0.0 in labels with no predicted samples. Use `zero_division` parameter to control this behavior.\n",
      "  _warn_prf(average, modifier, f\"{metric.capitalize()} is\", len(result))\n",
      "D:\\Usuarios\\jchata\\AppData\\Local\\anaconda3\\Lib\\site-packages\\sklearn\\metrics\\_classification.py:1517: UndefinedMetricWarning: Precision is ill-defined and being set to 0.0 in labels with no predicted samples. Use `zero_division` parameter to control this behavior.\n",
      "  _warn_prf(average, modifier, f\"{metric.capitalize()} is\", len(result))\n"
     ]
    },
    {
     "name": "stdout",
     "output_type": "stream",
     "text": [
      "1\n"
     ]
    },
    {
     "name": "stderr",
     "output_type": "stream",
     "text": [
      "D:\\Usuarios\\jchata\\AppData\\Local\\anaconda3\\Lib\\site-packages\\sklearn\\metrics\\_classification.py:1517: UndefinedMetricWarning: Precision is ill-defined and being set to 0.0 in labels with no predicted samples. Use `zero_division` parameter to control this behavior.\n",
      "  _warn_prf(average, modifier, f\"{metric.capitalize()} is\", len(result))\n",
      "D:\\Usuarios\\jchata\\AppData\\Local\\anaconda3\\Lib\\site-packages\\sklearn\\metrics\\_classification.py:1517: UndefinedMetricWarning: Precision is ill-defined and being set to 0.0 in labels with no predicted samples. Use `zero_division` parameter to control this behavior.\n",
      "  _warn_prf(average, modifier, f\"{metric.capitalize()} is\", len(result))\n",
      "D:\\Usuarios\\jchata\\AppData\\Local\\anaconda3\\Lib\\site-packages\\sklearn\\metrics\\_classification.py:1517: UndefinedMetricWarning: Precision is ill-defined and being set to 0.0 in labels with no predicted samples. Use `zero_division` parameter to control this behavior.\n",
      "  _warn_prf(average, modifier, f\"{metric.capitalize()} is\", len(result))\n"
     ]
    },
    {
     "name": "stdout",
     "output_type": "stream",
     "text": [
      "2\n",
      "3\n",
      "4\n"
     ]
    },
    {
     "name": "stderr",
     "output_type": "stream",
     "text": [
      "D:\\Usuarios\\jchata\\AppData\\Local\\anaconda3\\Lib\\site-packages\\sklearn\\metrics\\_classification.py:1517: UndefinedMetricWarning: Precision is ill-defined and being set to 0.0 in labels with no predicted samples. Use `zero_division` parameter to control this behavior.\n",
      "  _warn_prf(average, modifier, f\"{metric.capitalize()} is\", len(result))\n",
      "D:\\Usuarios\\jchata\\AppData\\Local\\anaconda3\\Lib\\site-packages\\sklearn\\metrics\\_classification.py:1517: UndefinedMetricWarning: Precision is ill-defined and being set to 0.0 in labels with no predicted samples. Use `zero_division` parameter to control this behavior.\n",
      "  _warn_prf(average, modifier, f\"{metric.capitalize()} is\", len(result))\n",
      "D:\\Usuarios\\jchata\\AppData\\Local\\anaconda3\\Lib\\site-packages\\sklearn\\metrics\\_classification.py:1517: UndefinedMetricWarning: Precision is ill-defined and being set to 0.0 in labels with no predicted samples. Use `zero_division` parameter to control this behavior.\n",
      "  _warn_prf(average, modifier, f\"{metric.capitalize()} is\", len(result))\n"
     ]
    }
   ],
   "source": [
    "dicc_svc = {}\n",
    "dicc_reporte_svc = {}\n",
    "\n",
    "for i, model in enumerate(svc):\n",
    "    # Entrenar el modelo con datos de entrenamiento\n",
    "    model.fit(X_train, y_train)\n",
    "\n",
    "    # Realizar predicciones\n",
    "    y_pred = model.predict(X_test)\n",
    "\n",
    "    # Calcular y mostrar la precisión del modelo\n",
    "    precision = accuracy_score(y_test, y_pred)\n",
    "    matriz_conf = confusion_matrix(y_test, y_pred)\n",
    "    reporte = classification_report(y_test, y_pred)\n",
    "    \n",
    "    dicc_svc[model.C] = matriz_conf\n",
    "    dicc_reporte_svc[model.C] = reporte\n",
    "    print(i)"
   ]
  },
  {
   "cell_type": "code",
   "execution_count": 21,
   "id": "e3cab63d",
   "metadata": {},
   "outputs": [
    {
     "name": "stdout",
     "output_type": "stream",
     "text": [
      "Modelo C =  0.1\n",
      "[[ 674    0  172   28   86]\n",
      " [ 312    0  208   95  146]\n",
      " [ 313    0  323  470 1388]\n",
      " [ 137    0  112  392 4975]\n",
      " [ 211    0   61  200 9697]]\n",
      "Cantidad clasificados correctamente: 11086\n",
      "Modelo C =  1\n",
      "[[ 617    0  229   52   62]\n",
      " [ 217    0  303  144   97]\n",
      " [ 175    0  461  828 1030]\n",
      " [  99    0  150  979 4388]\n",
      " [ 191    0   81  566 9331]]\n",
      "Cantidad clasificados correctamente: 11388\n",
      "Modelo C =  100\n",
      "[[ 617    0  229   74   40]\n",
      " [ 212    0  308  199   42]\n",
      " [ 173    0  463 1444  414]\n",
      " [  98    0  151 2805 2562]\n",
      " [ 191    0   81 2258 7639]]\n",
      "Cantidad clasificados correctamente: 11524\n",
      "Modelo C =  1000\n",
      "[[ 616    0  230   73   41]\n",
      " [ 212    3  307  195   44]\n",
      " [ 170    0  528 1378  418]\n",
      " [  97    0  179 2777 2563]\n",
      " [ 183    0   89 2250 7647]]\n",
      "Cantidad clasificados correctamente: 11571\n",
      "Modelo C =  10\n",
      "[[ 617    0  229   74   40]\n",
      " [ 214    0  306  199   42]\n",
      " [ 173    0  463 1442  416]\n",
      " [  98    0  151 2804 2563]\n",
      " [ 191    0   81 2254 7643]]\n",
      "Cantidad clasificados correctamente: 11527\n"
     ]
    }
   ],
   "source": [
    "for k in C:\n",
    "    print(\"Modelo C = \", k)\n",
    "    cnt_correcto = np.diagonal(dicc_svc[k]).sum()\n",
    "    print(dicc_svc[k])\n",
    "    print(\"Cantidad clasificados correctamente:\", cnt_correcto)"
   ]
  },
  {
   "cell_type": "code",
   "execution_count": 22,
   "id": "522ee512",
   "metadata": {},
   "outputs": [
    {
     "name": "stdout",
     "output_type": "stream",
     "text": [
      "Modelo C: 0.1 -> Precision: 0.5543\n",
      "              precision    recall  f1-score   support\n",
      "\n",
      "         1.0       0.41      0.70      0.52       960\n",
      "         2.0       0.00      0.00      0.00       761\n",
      "         3.0       0.37      0.13      0.19      2494\n",
      "         4.0       0.33      0.07      0.12      5616\n",
      "         5.0       0.60      0.95      0.73     10169\n",
      "\n",
      "    accuracy                           0.55     20000\n",
      "   macro avg       0.34      0.37      0.31     20000\n",
      "weighted avg       0.46      0.55      0.45     20000\n",
      "\n",
      "Modelo C: 1 -> Precision: 0.5694\n",
      "              precision    recall  f1-score   support\n",
      "\n",
      "         1.0       0.47      0.64      0.55       960\n",
      "         2.0       0.00      0.00      0.00       761\n",
      "         3.0       0.38      0.18      0.25      2494\n",
      "         4.0       0.38      0.17      0.24      5616\n",
      "         5.0       0.63      0.92      0.74     10169\n",
      "\n",
      "    accuracy                           0.57     20000\n",
      "   macro avg       0.37      0.38      0.36     20000\n",
      "weighted avg       0.50      0.57      0.50     20000\n",
      "\n",
      "Modelo C: 100 -> Precision: 0.5762\n",
      "              precision    recall  f1-score   support\n",
      "\n",
      "         1.0       0.48      0.64      0.55       960\n",
      "         2.0       0.00      0.00      0.00       761\n",
      "         3.0       0.38      0.19      0.25      2494\n",
      "         4.0       0.41      0.50      0.45      5616\n",
      "         5.0       0.71      0.75      0.73     10169\n",
      "\n",
      "    accuracy                           0.58     20000\n",
      "   macro avg       0.40      0.42      0.40     20000\n",
      "weighted avg       0.55      0.58      0.56     20000\n",
      "\n",
      "Modelo C: 1000 -> Precision: 0.57855\n",
      "              precision    recall  f1-score   support\n",
      "\n",
      "         1.0       0.48      0.64      0.55       960\n",
      "         2.0       1.00      0.00      0.01       761\n",
      "         3.0       0.40      0.21      0.28      2494\n",
      "         4.0       0.42      0.49      0.45      5616\n",
      "         5.0       0.71      0.75      0.73     10169\n",
      "\n",
      "    accuracy                           0.58     20000\n",
      "   macro avg       0.60      0.42      0.40     20000\n",
      "weighted avg       0.59      0.58      0.56     20000\n",
      "\n",
      "Modelo C: 10 -> Precision: 0.57635\n",
      "              precision    recall  f1-score   support\n",
      "\n",
      "         1.0       0.48      0.64      0.55       960\n",
      "         2.0       0.00      0.00      0.00       761\n",
      "         3.0       0.38      0.19      0.25      2494\n",
      "         4.0       0.41      0.50      0.45      5616\n",
      "         5.0       0.71      0.75      0.73     10169\n",
      "\n",
      "    accuracy                           0.58     20000\n",
      "   macro avg       0.40      0.42      0.40     20000\n",
      "weighted avg       0.55      0.58      0.56     20000\n",
      "\n"
     ]
    }
   ],
   "source": [
    "for k in C:\n",
    "    precision = np.diagonal(dicc_svc[k]).sum() / dicc_svc[k].sum()\n",
    "    print(\"Modelo C:\",k , \"-> Precision:\", precision)\n",
    "    print(dicc_reporte_svc[k])"
   ]
  }
 ],
 "metadata": {
  "kernelspec": {
   "display_name": "Python 3 (ipykernel)",
   "language": "python",
   "name": "python3"
  },
  "language_info": {
   "codemirror_mode": {
    "name": "ipython",
    "version": 3
   },
   "file_extension": ".py",
   "mimetype": "text/x-python",
   "name": "python",
   "nbconvert_exporter": "python",
   "pygments_lexer": "ipython3",
   "version": "3.11.5"
  }
 },
 "nbformat": 4,
 "nbformat_minor": 5
}
