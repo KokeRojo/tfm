{
 "cells": [
  {
   "cell_type": "code",
   "execution_count": 3,
   "id": "6f7d0b8a",
   "metadata": {},
   "outputs": [],
   "source": [
    "import pandas as pd\n",
    "import numpy as np\n",
    "import matplotlib.pyplot as plt\n",
    "from sklearn.tree import DecisionTreeClassifier \n",
    "from sklearn.model_selection import train_test_split \n",
    "from sklearn import metrics \n",
    "from sklearn.tree import export_graphviz,plot_tree\n",
    "from six import StringIO\n",
    "from IPython.display import Image  \n",
    "import pydotplus\n",
    "import collections"
   ]
  },
  {
   "cell_type": "code",
   "execution_count": 4,
   "id": "772a096a",
   "metadata": {},
   "outputs": [
    {
     "data": {
      "text/html": [
       "<div>\n",
       "<style scoped>\n",
       "    .dataframe tbody tr th:only-of-type {\n",
       "        vertical-align: middle;\n",
       "    }\n",
       "\n",
       "    .dataframe tbody tr th {\n",
       "        vertical-align: top;\n",
       "    }\n",
       "\n",
       "    .dataframe thead th {\n",
       "        text-align: right;\n",
       "    }\n",
       "</style>\n",
       "<table border=\"1\" class=\"dataframe\">\n",
       "  <thead>\n",
       "    <tr style=\"text-align: right;\">\n",
       "      <th></th>\n",
       "      <th>IDDIST</th>\n",
       "      <th>cluster</th>\n",
       "      <th>res_platform</th>\n",
       "      <th>score</th>\n",
       "      <th>platform</th>\n",
       "      <th>polarity</th>\n",
       "      <th>num_score</th>\n",
       "    </tr>\n",
       "  </thead>\n",
       "  <tbody>\n",
       "    <tr>\n",
       "      <th>0</th>\n",
       "      <td>14.0</td>\n",
       "      <td>4.0</td>\n",
       "      <td>2</td>\n",
       "      <td>5.0</td>\n",
       "      <td>2</td>\n",
       "      <td>5</td>\n",
       "      <td>0.8919</td>\n",
       "    </tr>\n",
       "    <tr>\n",
       "      <th>1</th>\n",
       "      <td>14.0</td>\n",
       "      <td>4.0</td>\n",
       "      <td>2</td>\n",
       "      <td>5.0</td>\n",
       "      <td>2</td>\n",
       "      <td>5</td>\n",
       "      <td>0.8781</td>\n",
       "    </tr>\n",
       "    <tr>\n",
       "      <th>2</th>\n",
       "      <td>14.0</td>\n",
       "      <td>4.0</td>\n",
       "      <td>2</td>\n",
       "      <td>1.0</td>\n",
       "      <td>2</td>\n",
       "      <td>1</td>\n",
       "      <td>0.9713</td>\n",
       "    </tr>\n",
       "    <tr>\n",
       "      <th>3</th>\n",
       "      <td>13.0</td>\n",
       "      <td>5.0</td>\n",
       "      <td>1</td>\n",
       "      <td>4.0</td>\n",
       "      <td>1</td>\n",
       "      <td>3</td>\n",
       "      <td>0.5874</td>\n",
       "    </tr>\n",
       "    <tr>\n",
       "      <th>4</th>\n",
       "      <td>13.0</td>\n",
       "      <td>5.0</td>\n",
       "      <td>1</td>\n",
       "      <td>5.0</td>\n",
       "      <td>1</td>\n",
       "      <td>5</td>\n",
       "      <td>0.5196</td>\n",
       "    </tr>\n",
       "  </tbody>\n",
       "</table>\n",
       "</div>"
      ],
      "text/plain": [
       "   IDDIST  cluster  res_platform  score  platform  polarity  num_score\n",
       "0    14.0      4.0             2    5.0         2         5     0.8919\n",
       "1    14.0      4.0             2    5.0         2         5     0.8781\n",
       "2    14.0      4.0             2    1.0         2         1     0.9713\n",
       "3    13.0      5.0             1    4.0         1         3     0.5874\n",
       "4    13.0      5.0             1    5.0         1         5     0.5196"
      ]
     },
     "execution_count": 4,
     "metadata": {},
     "output_type": "execute_result"
    }
   ],
   "source": [
    "df_final = pd.read_csv('./data/datosprocesados1.csv', delimiter=',', decimal='.', encoding='UTF-8')\n",
    "df_final.head()"
   ]
  },
  {
   "cell_type": "code",
   "execution_count": 5,
   "id": "8bd39a0c",
   "metadata": {},
   "outputs": [
    {
     "name": "stdout",
     "output_type": "stream",
     "text": [
      "score\n",
      "5.0    389655\n",
      "4.0    210019\n",
      "3.0     90142\n",
      "1.0     37463\n",
      "2.0     27787\n",
      "Name: count, dtype: int64\n"
     ]
    }
   ],
   "source": [
    "valores_score = df_final['score'].value_counts()\n",
    "print(valores_score)"
   ]
  },
  {
   "cell_type": "code",
   "execution_count": 6,
   "id": "d4fb9181",
   "metadata": {},
   "outputs": [
    {
     "name": "stdout",
     "output_type": "stream",
     "text": [
      "<class 'pandas.core.frame.DataFrame'>\n",
      "RangeIndex: 755066 entries, 0 to 755065\n",
      "Data columns (total 7 columns):\n",
      " #   Column        Non-Null Count   Dtype  \n",
      "---  ------        --------------   -----  \n",
      " 0   IDDIST        701056 non-null  float64\n",
      " 1   cluster       752017 non-null  float64\n",
      " 2   res_platform  755066 non-null  int64  \n",
      " 3   score         755066 non-null  float64\n",
      " 4   platform      755066 non-null  int64  \n",
      " 5   polarity      755066 non-null  int64  \n",
      " 6   num_score     755066 non-null  float64\n",
      "dtypes: float64(4), int64(3)\n",
      "memory usage: 40.3 MB\n"
     ]
    }
   ],
   "source": [
    "df_final.info()"
   ]
  },
  {
   "cell_type": "code",
   "execution_count": 7,
   "id": "739779e7",
   "metadata": {},
   "outputs": [],
   "source": [
    "df_final = df_final.dropna(subset=['IDDIST', 'cluster'])"
   ]
  },
  {
   "cell_type": "code",
   "execution_count": 8,
   "id": "a36f6c86",
   "metadata": {},
   "outputs": [
    {
     "name": "stdout",
     "output_type": "stream",
     "text": [
      "<class 'pandas.core.frame.DataFrame'>\n",
      "Index: 698143 entries, 0 to 755065\n",
      "Data columns (total 7 columns):\n",
      " #   Column        Non-Null Count   Dtype  \n",
      "---  ------        --------------   -----  \n",
      " 0   IDDIST        698143 non-null  float64\n",
      " 1   cluster       698143 non-null  float64\n",
      " 2   res_platform  698143 non-null  int64  \n",
      " 3   score         698143 non-null  float64\n",
      " 4   platform      698143 non-null  int64  \n",
      " 5   polarity      698143 non-null  int64  \n",
      " 6   num_score     698143 non-null  float64\n",
      "dtypes: float64(4), int64(3)\n",
      "memory usage: 42.6 MB\n"
     ]
    }
   ],
   "source": [
    "df_final.info()"
   ]
  },
  {
   "cell_type": "code",
   "execution_count": 9,
   "id": "51757a51",
   "metadata": {},
   "outputs": [],
   "source": [
    "X = df_final.drop('score', axis=1)  \n",
    "y = df_final['score']  \n",
    "\n",
    "X_train, X_test, y_train, y_test = train_test_split(X, y, test_size=0.2, random_state=42)"
   ]
  },
  {
   "cell_type": "code",
   "execution_count": 26,
   "id": "9f75e8f4",
   "metadata": {},
   "outputs": [
    {
     "name": "stdout",
     "output_type": "stream",
     "text": [
      "scaler\n"
     ]
    }
   ],
   "source": [
    "from sklearn.preprocessing import StandardScaler\n",
    "from pandas import DataFrame\n",
    "\n",
    "column_names = X_train.columns.tolist()\n",
    "\n",
    "# Escalar\n",
    "scaler = StandardScaler()\n",
    "\n",
    "X_train_esc = scaler.fit_transform(X_train)\n",
    "X_train = DataFrame(X_train_esc, columns=column_names)\n",
    "\n",
    "X_test_esc = scaler.fit_transform(X_test)\n",
    "X_test = DataFrame(X_test_esc, columns=column_names)\n",
    "\n",
    "print (\"scaler\")"
   ]
  },
  {
   "cell_type": "code",
   "execution_count": 8,
   "id": "c86e4a64",
   "metadata": {},
   "outputs": [
    {
     "name": "stdout",
     "output_type": "stream",
     "text": [
      "Accuracy para datos de entrenamiento: 0.878\n",
      "Accuracy para datos de test: 0.498\n"
     ]
    }
   ],
   "source": [
    "tree = DecisionTreeClassifier(criterion=\"entropy\", random_state=0)\n",
    "tree = tree.fit(X_train,y_train)\n",
    "\n",
    "print('Accuracy para datos de entrenamiento: {:.3f}'.format(tree.score(X_train, y_train)))\n",
    "print('Accuracy para datos de test: {:.3f}'.format(tree.score(X_test, y_test)))"
   ]
  },
  {
   "cell_type": "code",
   "execution_count": null,
   "id": "999876f5",
   "metadata": {},
   "outputs": [],
   "source": [
    "plot_tree(tree)"
   ]
  },
  {
   "cell_type": "code",
   "execution_count": 9,
   "id": "10d8162b",
   "metadata": {},
   "outputs": [],
   "source": [
    "# numero de árboles: 5, 10, 20, 50 y 100\n",
    "from sklearn.ensemble import RandomForestClassifier\n",
    "#   []\n",
    "n_arboles = {5, 10, 20, 50, 100}\n",
    "particion = 'gini'\n",
    "max_depth = 10\n",
    "min_samples_split = 10 \n",
    "min_samples_leaf = 2\n",
    "max_feature = 'auto'\n",
    "\n",
    "randomForest = [RandomForestClassifier(n_estimators = i, criterion= particion,\n",
    "                                       max_depth = max_depth, min_samples_split = min_samples_split,\n",
    "                                      min_samples_leaf = min_samples_leaf, max_features =None) for i in n_arboles]"
   ]
  },
  {
   "cell_type": "code",
   "execution_count": 10,
   "id": "bd358335",
   "metadata": {},
   "outputs": [
    {
     "name": "stdout",
     "output_type": "stream",
     "text": [
      "0\n",
      "1\n",
      "2\n",
      "3\n",
      "4\n"
     ]
    }
   ],
   "source": [
    "from sklearn.metrics import accuracy_score\n",
    "from sklearn.metrics import confusion_matrix\n",
    "from sklearn.metrics import classification_report\n",
    "\n",
    "# Entrenar el modelo\n",
    "dicc_forest = {}\n",
    "dicc_reporte = {}\n",
    "\n",
    "for i, model in enumerate(randomForest):\n",
    "    # Entrenar el modelo con datos de entrenamiento\n",
    "    model.fit(X_train, y_train)\n",
    "\n",
    "    # Realizar predicciones\n",
    "    y_pred = model.predict(X_test)\n",
    "\n",
    "    # Calcular y mostrar la precisión del modelo\n",
    "    precision = accuracy_score(y_test, y_pred)\n",
    "    matriz_conf = confusion_matrix(y_test, y_pred)\n",
    "    reporte = classification_report(y_test, y_pred)\n",
    "    \n",
    "    dicc_forest[model.n_estimators] = matriz_conf\n",
    "    dicc_reporte[model.n_estimators] = reporte\n",
    "    print(i)"
   ]
  },
  {
   "cell_type": "code",
   "execution_count": 35,
   "id": "20c49323",
   "metadata": {},
   "outputs": [
    {
     "name": "stdout",
     "output_type": "stream",
     "text": [
      "[[  4191    347   1542     40   5042]\n",
      " [  1180    523   2416    115   4180]\n",
      " [   753    383   6935   2178  19908]\n",
      " [   307     57   4537   8474  50605]\n",
      " [   396     28   1592   6319 109011]]\n"
     ]
    }
   ],
   "source": [
    "print(dicc_forest[20])"
   ]
  },
  {
   "cell_type": "code",
   "execution_count": 36,
   "id": "915ec015",
   "metadata": {},
   "outputs": [
    {
     "name": "stdout",
     "output_type": "stream",
     "text": [
      "[[  4191    348   1500     87   5036]\n",
      " [  1166    534   2361    179   4174]\n",
      " [   750    384   6722   2519  19782]\n",
      " [   308     57   4367   9147  50101]\n",
      " [   394     29   1449   6938 108536]]\n"
     ]
    }
   ],
   "source": [
    "print(dicc_forest[100])"
   ]
  },
  {
   "cell_type": "code",
   "execution_count": 11,
   "id": "733fb6cf",
   "metadata": {},
   "outputs": [
    {
     "name": "stdout",
     "output_type": "stream",
     "text": [
      "Cantidad de arboles: 50 -> Precision: 0.6013578841071697\n",
      "Cantidad de arboles: 100 -> Precision: 0.6014796353193105\n",
      "Cantidad de arboles: 5 -> Precision: 0.600183343001812\n",
      "Cantidad de arboles: 20 -> Precision: 0.6013722077791863\n",
      "Cantidad de arboles: 10 -> Precision: 0.6005342729662176\n"
     ]
    }
   ],
   "source": [
    "for j in n_arboles:\n",
    "    precision = np.diagonal(dicc_forest[j]).sum() / dicc_forest[j].sum()\n",
    "    print(\"Cantidad de arboles:\",j, \"-> Precision:\", precision)"
   ]
  },
  {
   "cell_type": "code",
   "execution_count": 12,
   "id": "90afccc1",
   "metadata": {},
   "outputs": [
    {
     "name": "stdout",
     "output_type": "stream",
     "text": [
      "              precision    recall  f1-score   support\n",
      "\n",
      "         1.0       0.59      0.60      0.60      6757\n",
      "         2.0       0.36      0.10      0.15      5105\n",
      "         3.0       0.42      0.41      0.42     16727\n",
      "         4.0       0.50      0.23      0.32     39134\n",
      "         5.0       0.66      0.88      0.75     71906\n",
      "\n",
      "    accuracy                           0.60    139629\n",
      "   macro avg       0.51      0.44      0.45    139629\n",
      "weighted avg       0.57      0.60      0.56    139629\n",
      "\n"
     ]
    }
   ],
   "source": [
    "print(dicc_reporte[100])"
   ]
  },
  {
   "cell_type": "code",
   "execution_count": 10,
   "id": "72160245",
   "metadata": {},
   "outputs": [],
   "source": [
    "df = df_final.head(100000)"
   ]
  },
  {
   "cell_type": "code",
   "execution_count": 11,
   "id": "3be3a650",
   "metadata": {},
   "outputs": [],
   "source": [
    "from sklearn.model_selection import train_test_split\n",
    "\n",
    "X, y = df.drop('score',axis=1),df['score']\n",
    "\n",
    "X_train,X_test,y_train,y_test = train_test_split(X, y, test_size=0.2, random_state=1)"
   ]
  },
  {
   "cell_type": "code",
   "execution_count": 12,
   "id": "b4321dbc",
   "metadata": {},
   "outputs": [],
   "source": [
    "from sklearn import svm\n",
    "\n",
    "#Cargamos también las librerías para hacer la matriz de confusión y la cross validation:\n",
    "\n",
    "from sklearn import metrics\n",
    "from sklearn.metrics import confusion_matrix\n",
    "from sklearn.metrics import accuracy_score\n",
    "from sklearn.metrics import classification_report\n",
    "from sklearn.model_selection import cross_val_score\n",
    "from sklearn.model_selection import cross_val_predict\n",
    "from sklearn.model_selection import KFold\n"
   ]
  },
  {
   "cell_type": "code",
   "execution_count": 13,
   "id": "3eb8c58b",
   "metadata": {},
   "outputs": [
    {
     "data": {
      "text/plain": [
       "[SVC(C=0.1), SVC(C=1), SVC(C=100), SVC(C=1000), SVC(C=10)]"
      ]
     },
     "execution_count": 13,
     "metadata": {},
     "output_type": "execute_result"
    }
   ],
   "source": [
    "from sklearn.svm import SVC\n",
    "\n",
    "C = {0.1, 1, 10, 100, 1000}\n",
    "kernel = 'rbf'\n",
    "gamma = 'scale'\n",
    "\n",
    "svc = [SVC(C=i, kernel=kernel, gamma=gamma) for i in C]\n",
    "svc"
   ]
  },
  {
   "cell_type": "code",
   "execution_count": 14,
   "id": "308c9732",
   "metadata": {},
   "outputs": [
    {
     "name": "stderr",
     "output_type": "stream",
     "text": [
      "D:\\Usuarios\\jchata\\AppData\\Local\\anaconda3\\Lib\\site-packages\\sklearn\\metrics\\_classification.py:1517: UndefinedMetricWarning: Precision is ill-defined and being set to 0.0 in labels with no predicted samples. Use `zero_division` parameter to control this behavior.\n",
      "  _warn_prf(average, modifier, f\"{metric.capitalize()} is\", len(result))\n",
      "D:\\Usuarios\\jchata\\AppData\\Local\\anaconda3\\Lib\\site-packages\\sklearn\\metrics\\_classification.py:1517: UndefinedMetricWarning: Precision is ill-defined and being set to 0.0 in labels with no predicted samples. Use `zero_division` parameter to control this behavior.\n",
      "  _warn_prf(average, modifier, f\"{metric.capitalize()} is\", len(result))\n",
      "D:\\Usuarios\\jchata\\AppData\\Local\\anaconda3\\Lib\\site-packages\\sklearn\\metrics\\_classification.py:1517: UndefinedMetricWarning: Precision is ill-defined and being set to 0.0 in labels with no predicted samples. Use `zero_division` parameter to control this behavior.\n",
      "  _warn_prf(average, modifier, f\"{metric.capitalize()} is\", len(result))\n"
     ]
    },
    {
     "name": "stdout",
     "output_type": "stream",
     "text": [
      "0\n"
     ]
    },
    {
     "name": "stderr",
     "output_type": "stream",
     "text": [
      "D:\\Usuarios\\jchata\\AppData\\Local\\anaconda3\\Lib\\site-packages\\sklearn\\metrics\\_classification.py:1517: UndefinedMetricWarning: Precision is ill-defined and being set to 0.0 in labels with no predicted samples. Use `zero_division` parameter to control this behavior.\n",
      "  _warn_prf(average, modifier, f\"{metric.capitalize()} is\", len(result))\n",
      "D:\\Usuarios\\jchata\\AppData\\Local\\anaconda3\\Lib\\site-packages\\sklearn\\metrics\\_classification.py:1517: UndefinedMetricWarning: Precision is ill-defined and being set to 0.0 in labels with no predicted samples. Use `zero_division` parameter to control this behavior.\n",
      "  _warn_prf(average, modifier, f\"{metric.capitalize()} is\", len(result))\n",
      "D:\\Usuarios\\jchata\\AppData\\Local\\anaconda3\\Lib\\site-packages\\sklearn\\metrics\\_classification.py:1517: UndefinedMetricWarning: Precision is ill-defined and being set to 0.0 in labels with no predicted samples. Use `zero_division` parameter to control this behavior.\n",
      "  _warn_prf(average, modifier, f\"{metric.capitalize()} is\", len(result))\n"
     ]
    },
    {
     "name": "stdout",
     "output_type": "stream",
     "text": [
      "1\n"
     ]
    },
    {
     "name": "stderr",
     "output_type": "stream",
     "text": [
      "D:\\Usuarios\\jchata\\AppData\\Local\\anaconda3\\Lib\\site-packages\\sklearn\\metrics\\_classification.py:1517: UndefinedMetricWarning: Precision is ill-defined and being set to 0.0 in labels with no predicted samples. Use `zero_division` parameter to control this behavior.\n",
      "  _warn_prf(average, modifier, f\"{metric.capitalize()} is\", len(result))\n",
      "D:\\Usuarios\\jchata\\AppData\\Local\\anaconda3\\Lib\\site-packages\\sklearn\\metrics\\_classification.py:1517: UndefinedMetricWarning: Precision is ill-defined and being set to 0.0 in labels with no predicted samples. Use `zero_division` parameter to control this behavior.\n",
      "  _warn_prf(average, modifier, f\"{metric.capitalize()} is\", len(result))\n",
      "D:\\Usuarios\\jchata\\AppData\\Local\\anaconda3\\Lib\\site-packages\\sklearn\\metrics\\_classification.py:1517: UndefinedMetricWarning: Precision is ill-defined and being set to 0.0 in labels with no predicted samples. Use `zero_division` parameter to control this behavior.\n",
      "  _warn_prf(average, modifier, f\"{metric.capitalize()} is\", len(result))\n"
     ]
    },
    {
     "name": "stdout",
     "output_type": "stream",
     "text": [
      "2\n",
      "3\n",
      "4\n"
     ]
    },
    {
     "name": "stderr",
     "output_type": "stream",
     "text": [
      "D:\\Usuarios\\jchata\\AppData\\Local\\anaconda3\\Lib\\site-packages\\sklearn\\metrics\\_classification.py:1517: UndefinedMetricWarning: Precision is ill-defined and being set to 0.0 in labels with no predicted samples. Use `zero_division` parameter to control this behavior.\n",
      "  _warn_prf(average, modifier, f\"{metric.capitalize()} is\", len(result))\n",
      "D:\\Usuarios\\jchata\\AppData\\Local\\anaconda3\\Lib\\site-packages\\sklearn\\metrics\\_classification.py:1517: UndefinedMetricWarning: Precision is ill-defined and being set to 0.0 in labels with no predicted samples. Use `zero_division` parameter to control this behavior.\n",
      "  _warn_prf(average, modifier, f\"{metric.capitalize()} is\", len(result))\n",
      "D:\\Usuarios\\jchata\\AppData\\Local\\anaconda3\\Lib\\site-packages\\sklearn\\metrics\\_classification.py:1517: UndefinedMetricWarning: Precision is ill-defined and being set to 0.0 in labels with no predicted samples. Use `zero_division` parameter to control this behavior.\n",
      "  _warn_prf(average, modifier, f\"{metric.capitalize()} is\", len(result))\n"
     ]
    }
   ],
   "source": [
    "dicc_svc = {}\n",
    "dicc_reporte_svc = {}\n",
    "\n",
    "for i, model in enumerate(svc):\n",
    "    # Entrenar el modelo con datos de entrenamiento\n",
    "    model.fit(X_train, y_train)\n",
    "\n",
    "    # Realizar predicciones\n",
    "    y_pred = model.predict(X_test)\n",
    "\n",
    "    # Calcular y mostrar la precisión del modelo\n",
    "    precision = accuracy_score(y_test, y_pred)\n",
    "    matriz_conf = confusion_matrix(y_test, y_pred)\n",
    "    reporte = classification_report(y_test, y_pred)\n",
    "    \n",
    "    dicc_svc[model.C] = matriz_conf\n",
    "    dicc_reporte_svc[model.C] = reporte\n",
    "    print(i)"
   ]
  },
  {
   "cell_type": "code",
   "execution_count": 15,
   "id": "e3cab63d",
   "metadata": {},
   "outputs": [
    {
     "name": "stdout",
     "output_type": "stream",
     "text": [
      "Modelo C =  0.1\n",
      "[[ 676    0  152   40   92]\n",
      " [ 307    0  200   97  157]\n",
      " [ 325    0  288  488 1393]\n",
      " [ 137    0  101  409 4969]\n",
      " [ 196    0   49  198 9726]]\n",
      "Cantidad clasificados correctamente: 11099\n",
      "Modelo C =  1\n",
      "[[ 613    0  215   65   67]\n",
      " [ 218    0  289  155   99]\n",
      " [ 178    0  435  801 1080]\n",
      " [  97    0  141  846 4532]\n",
      " [ 172    0   73  474 9450]]\n",
      "Cantidad clasificados correctamente: 11344\n",
      "Modelo C =  100\n",
      "[[ 613    0  215   90   42]\n",
      " [ 214    0  293  210   44]\n",
      " [ 176    0  437 1449  432]\n",
      " [  96    0  142 2853 2525]\n",
      " [ 172    0   73 2381 7543]]\n",
      "Cantidad clasificados correctamente: 11446\n",
      "Modelo C =  1000\n",
      "[[ 613    0  215   90   42]\n",
      " [ 214    2  290  210   45]\n",
      " [ 176    0  437 1449  432]\n",
      " [  96    0  142 2853 2525]\n",
      " [ 172    0   73 2381 7543]]\n",
      "Cantidad clasificados correctamente: 11448\n",
      "Modelo C =  10\n",
      "[[ 613    0  215   90   42]\n",
      " [ 214    0  293  210   44]\n",
      " [ 176    0  437 1446  435]\n",
      " [  96    0  142 2852 2526]\n",
      " [ 172    0   73 2378 7546]]\n",
      "Cantidad clasificados correctamente: 11448\n"
     ]
    }
   ],
   "source": [
    "for k in C:\n",
    "    print(\"Modelo C = \", k)\n",
    "    cnt_correcto = np.diagonal(dicc_svc[k]).sum()\n",
    "    print(dicc_svc[k])\n",
    "    print(\"Cantidad clasificados correctamente:\", cnt_correcto)"
   ]
  },
  {
   "cell_type": "code",
   "execution_count": 16,
   "id": "522ee512",
   "metadata": {},
   "outputs": [
    {
     "name": "stdout",
     "output_type": "stream",
     "text": [
      "Modelo C: 0.1 -> Precision: 0.55495\n",
      "              precision    recall  f1-score   support\n",
      "\n",
      "         1.0       0.41      0.70      0.52       960\n",
      "         2.0       0.00      0.00      0.00       761\n",
      "         3.0       0.36      0.12      0.18      2494\n",
      "         4.0       0.33      0.07      0.12      5616\n",
      "         5.0       0.60      0.96      0.73     10169\n",
      "\n",
      "    accuracy                           0.55     20000\n",
      "   macro avg       0.34      0.37      0.31     20000\n",
      "weighted avg       0.46      0.55      0.45     20000\n",
      "\n",
      "Modelo C: 1 -> Precision: 0.5672\n",
      "              precision    recall  f1-score   support\n",
      "\n",
      "         1.0       0.48      0.64      0.55       960\n",
      "         2.0       0.00      0.00      0.00       761\n",
      "         3.0       0.38      0.17      0.24      2494\n",
      "         4.0       0.36      0.15      0.21      5616\n",
      "         5.0       0.62      0.93      0.74     10169\n",
      "\n",
      "    accuracy                           0.57     20000\n",
      "   macro avg       0.37      0.38      0.35     20000\n",
      "weighted avg       0.49      0.57      0.49     20000\n",
      "\n",
      "Modelo C: 100 -> Precision: 0.5723\n",
      "              precision    recall  f1-score   support\n",
      "\n",
      "         1.0       0.48      0.64      0.55       960\n",
      "         2.0       0.00      0.00      0.00       761\n",
      "         3.0       0.38      0.18      0.24      2494\n",
      "         4.0       0.41      0.51      0.45      5616\n",
      "         5.0       0.71      0.74      0.73     10169\n",
      "\n",
      "    accuracy                           0.57     20000\n",
      "   macro avg       0.40      0.41      0.39     20000\n",
      "weighted avg       0.55      0.57      0.55     20000\n",
      "\n",
      "Modelo C: 1000 -> Precision: 0.5724\n",
      "              precision    recall  f1-score   support\n",
      "\n",
      "         1.0       0.48      0.64      0.55       960\n",
      "         2.0       1.00      0.00      0.01       761\n",
      "         3.0       0.38      0.18      0.24      2494\n",
      "         4.0       0.41      0.51      0.45      5616\n",
      "         5.0       0.71      0.74      0.73     10169\n",
      "\n",
      "    accuracy                           0.57     20000\n",
      "   macro avg       0.60      0.41      0.39     20000\n",
      "weighted avg       0.59      0.57      0.55     20000\n",
      "\n",
      "Modelo C: 10 -> Precision: 0.5724\n",
      "              precision    recall  f1-score   support\n",
      "\n",
      "         1.0       0.48      0.64      0.55       960\n",
      "         2.0       0.00      0.00      0.00       761\n",
      "         3.0       0.38      0.18      0.24      2494\n",
      "         4.0       0.41      0.51      0.45      5616\n",
      "         5.0       0.71      0.74      0.73     10169\n",
      "\n",
      "    accuracy                           0.57     20000\n",
      "   macro avg       0.40      0.41      0.39     20000\n",
      "weighted avg       0.55      0.57      0.55     20000\n",
      "\n"
     ]
    }
   ],
   "source": [
    "for k in C:\n",
    "    precision = np.diagonal(dicc_svc[k]).sum() / dicc_svc[k].sum()\n",
    "    print(\"Modelo C:\",k , \"-> Precision:\", precision)\n",
    "    print(dicc_reporte_svc[k])"
   ]
  }
 ],
 "metadata": {
  "kernelspec": {
   "display_name": "Python 3 (ipykernel)",
   "language": "python",
   "name": "python3"
  },
  "language_info": {
   "codemirror_mode": {
    "name": "ipython",
    "version": 3
   },
   "file_extension": ".py",
   "mimetype": "text/x-python",
   "name": "python",
   "nbconvert_exporter": "python",
   "pygments_lexer": "ipython3",
   "version": "3.11.5"
  }
 },
 "nbformat": 4,
 "nbformat_minor": 5
}
